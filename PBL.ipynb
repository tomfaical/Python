{
  "nbformat": 4,
  "nbformat_minor": 0,
  "metadata": {
    "colab": {
      "provenance": [],
      "authorship_tag": "ABX9TyMhGzYjrJOrVMozMeffaqi1",
      "include_colab_link": true
    },
    "kernelspec": {
      "name": "python3",
      "display_name": "Python 3"
    },
    "language_info": {
      "name": "python"
    }
  },
  "cells": [
    {
      "cell_type": "markdown",
      "metadata": {
        "id": "view-in-github",
        "colab_type": "text"
      },
      "source": [
        "<a href=\"https://colab.research.google.com/github/tomfaical/Python/blob/main/PBL.ipynb\" target=\"_parent\"><img src=\"https://colab.research.google.com/assets/colab-badge.svg\" alt=\"Open In Colab\"/></a>"
      ]
    },
    {
      "cell_type": "markdown",
      "source": [
        "\n",
        "\n",
        "---\n",
        "\n",
        "\n",
        "***Microservices*** desenvolvidos e utilizados pelo grupo,  \n",
        "denotados por uServ-X      \n",
        "(u como em micro, Serv como em Services, X sendo o numero do servico)\n",
        "\n",
        "\n",
        "---\n",
        "\n"
      ],
      "metadata": {
        "id": "36scKPyz4kUk"
      }
    },
    {
      "cell_type": "code",
      "source": [
        "# uServ-1 = descobrir endereco das unidades de coleta\n",
        "\n"
      ],
      "metadata": {
        "id": "OxMxlgavqkP4"
      },
      "execution_count": null,
      "outputs": []
    },
    {
      "cell_type": "code",
      "source": [
        "# uServ-2 = descobrir coords geograficas da unidade de coleta (a partir do endereco) para plotagem de grafico tipo mapa\n",
        "\n",
        "\n"
      ],
      "metadata": {
        "id": "4B5JmmaKuWwh"
      },
      "execution_count": null,
      "outputs": []
    },
    {
      "cell_type": "code",
      "source": [
        "# uServ-3 = upload de dados\n",
        "\n",
        "def upload(filename,mode):\n",
        "  # Abre um arquivo (de nome = {filename}), no modo {mode} (sendo 'r' o modo padrao)\n",
        "    with open(filename, mode) as file:\n",
        "    # Perform operations on the file\n",
        "        content = file.read()\n",
        "        return content\n"
      ],
      "metadata": {
        "id": "ogh_5sG-ulR6"
      },
      "execution_count": 2,
      "outputs": []
    },
    {
      "cell_type": "code",
      "source": [
        "# uServ-4 = apurar dados relevantes do banco de dados\n",
        "# pegar colunas correspondentes aos dados solicitados, transformar em listas\n",
        "#\n",
        "\n",
        "# importando libs - pandas para manipular o data frame\n",
        "import pandas as pd\n",
        "\n",
        "# carregando o arquivo\n",
        "df = pd.read_csv('C:/Users/Usuário/Desktop/sample_data_clean.csv')\n",
        "df = df.dropna()\n",
        "\n",
        "# criando listas de acordo com o nome das colunas\n",
        "bacteria = df['ds_micro_organismo']\n",
        "remedio = df['ds_antibiotico_microorganismo']\n",
        "resist = df['cd_interpretacao_antibiograma']\n",
        "\n",
        "bacteria = bacteria[:5]\n",
        "remedio = remedio[:5]\n",
        "resist = resist[:5]\n",
        "\n",
        "print(bacteria)\n",
        "print(remedio)\n",
        "print(resist)\n",
        "\n",
        "\n",
        "# NAO TA FUNCIONANDO ///////////////////////////////\n",
        "# Sort the dataframe by the 'Bacs' column\n",
        "df['sort'] = df['ds_micro_organismo'].apply(lambda x: ('Strpne', 'Aerhyd', 'Canalb').index(x))\n",
        "df = df.sort_values(by='sort')\n",
        "\n",
        "# Create the new list of lists\n",
        "result = [[], [], []]\n",
        "for i, (index, row) in enumerate(df.iterrows()):\n",
        "    if i > 0 and row['ds_micro_organismo'] != df.loc[index - 1, 'ds_micro_organismo']:\n",
        "        j += 1\n",
        "    result[j].append([row['ds_micro_organismo'], row['ds_antibiotico_microorganismo'], row['cd_interpretacao_antibiograma']])\n",
        "\n",
        "print(result)\n",
        "\n",
        "\n",
        "\n"
      ],
      "metadata": {
        "id": "rSH0ihT93IDU"
      },
      "execution_count": null,
      "outputs": []
    },
    {
      "cell_type": "code",
      "source": [],
      "metadata": {
        "id": "J9ncLclh6Yz5"
      },
      "execution_count": null,
      "outputs": []
    }
  ]
}